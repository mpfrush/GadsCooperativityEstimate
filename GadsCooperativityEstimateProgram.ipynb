{
 "cells": [
  {
   "cell_type": "markdown",
   "metadata": {},
   "source": [
    "# Gads Binding Cooperativity Parameter Estimation Program\n",
    "## Developed by Dr. Frushicheva @ MIT"
   ]
  },
  {
   "cell_type": "markdown",
   "metadata": {},
   "source": [
    "## Import Python Libraries"
   ]
  },
  {
   "cell_type": "code",
   "execution_count": 1,
   "metadata": {
    "collapsed": false
   },
   "outputs": [],
   "source": [
    "import numpy as np\n",
    "from scipy.integrate import odeint, quad\n",
    "from scipy import optimize\n",
    "import matplotlib.pyplot as plt \n",
    "%matplotlib inline"
   ]
  },
  {
   "cell_type": "markdown",
   "metadata": {},
   "source": [
    "## Import and Plot Experimental Data"
   ]
  },
  {
   "cell_type": "code",
   "execution_count": 2,
   "metadata": {
    "collapsed": false
   },
   "outputs": [],
   "source": [
    "# WT exp. data in uM\n",
    "WT_raw_exp_y=np.array([0.294207761,0.26337707,0.23638426,0.214669316,0.179110633])\n",
    "sd_WT=np.array([0.000117522,0.00033228,0.000167249,0.000169248,6.7524E-05])\n",
    "\n",
    "# F92D exp. data in uM\n",
    "F2D_raw_exp_y = np.array([0.271768565,0.213041181,0.184558209,0.172836008,0.15602546])\n",
    "sd_F2D=np.array([0.000172372,0.000113375,0.000101194,0.000195189,0.000130786])\n",
    "\n",
    "# 1pY-LAT exp. concentration in uM \n",
    "L0_exp = np.array([0,5,10,15,20])"
   ]
  },
  {
   "cell_type": "code",
   "execution_count": 3,
   "metadata": {
    "collapsed": false
   },
   "outputs": [
    {
     "data": {
      "image/png": "[encoded data removed]",
      "text/plain": [
       "<matplotlib.figure.Figure at 0x15081470>"
      ]
     },
     "metadata": {},
     "output_type": "display_data"
    }
   ],
   "source": [
    "# Plot the Experimental Data\n",
    "plt.figure(1)\n",
    "plt.errorbar(L0_exp,F2D_raw_exp_y,yerr=sd_F2D,fmt='--o') # plot for F92D mutant\n",
    "plt.errorbar(L0_exp,WT_raw_exp_y,yerr=sd_WT,fmt='--o') # plot for WT\n",
    "plt.title('[Gads dimer] vs. [1Yp-LAT]')\n",
    "plt.xlabel('[1Yp-LAT], uM')\n",
    "plt.ylabel('[Gads dimer], uM')\n",
    "plt.legend(['F92D','WT'])\n",
    "plt.axis([-5,25,0.10,0.35])\n",
    "plt.grid(True)\n",
    "plt.show()"
   ]
  },
  {
   "cell_type": "code",
   "execution_count": 4,
   "metadata": {
    "collapsed": false
   },
   "outputs": [],
   "source": [
    "# IMPORTANT: Set fitting till 20 uM\n",
    "cut = 5 # 5 # equals 5 for fitting till 20 uM\n",
    "\n",
    "# IMPORTANT: Select the Data Set Here\n",
    "raw_exp_y = F2D_raw_exp_y # WT_raw_exp_y or F2D_raw_exp_y \n",
    "raw_exp_y = raw_exp_y[0:cut]\n",
    "\n",
    "# Exp. data converted from uM to computational units of number of molecules\n",
    "exp_y=raw_exp_y*50/(0.7*0.5)"
   ]
  },
  {
   "cell_type": "markdown",
   "metadata": {},
   "source": [
    "## Parameters Used in Calculations in Computer Units"
   ]
  },
  {
   "cell_type": "code",
   "execution_count": 5,
   "metadata": {
    "collapsed": false
   },
   "outputs": [],
   "source": [
    "# Concentrations\n",
    "G=35 # Gads = 0.7 uM\n",
    "L=250 # 2pY-LAT = 5 uM\n",
    "L0=L0_exp*50 # convert 1pY-LAT concentration to computer units\n",
    "L0=L0[0:cut]\n",
    "\n",
    "# Monomeric Rate Constants\n",
    "# for WT: kon = 4.52 1/(uM*s) = 0.09 1/(molec*s)\n",
    "# for F92D: kon = 1.70 1/(uM*s) = 0.03 1/(molec*s)\n",
    "# koff = 0.8 1/s\n",
    "kon = 0.03 # IMPORTANT: Select the Corresponding System Here !!! \n",
    "koff = 0.8\n",
    "\n",
    "kon_m = kon\n",
    "koff_m = koff\n",
    "\n",
    "kon_m2 = kon\n",
    "koff_m2 = koff\n",
    "\n",
    "kon_d = kon\n",
    "koff_d = koff\n",
    "\n",
    "k1 = kon_m # kon of 2pY-LAT: G + L -> L01\n",
    "k2 = kon_m # kon of 2pY-LAT: G + L -> L10\n",
    "k3 = koff_m # koff of 2pY-LAT: G + L <- L01\n",
    "k4 = koff_m # koff of 2pY-LAT: G + L <- L10\n",
    "\n",
    "k5 = kon # kon of 1pY-LAT: G + L0 -> L0_10\n",
    "k6 = koff # koff of 1pY-LAT: G + L0 <- L0_10\n",
    "\n",
    "# Unknown Rate Constants \n",
    "# 1) Dimer Formation from Gads-bound LAT Monomers\n",
    "k7 = kon_m2 # kon of 2pY-LAT: G + L01 -> L11\n",
    "k8 = kon_m2 # kon of 2pY-LAT: G + L10 -> L11\n",
    "k9 = koff_m2 # koff of 2pY-LAT: G + L01 <- L11\n",
    "k10 = koff_m2 # koff_m2 # koff of 2pY-LAT: G + L10 <- L11\n",
    "\n",
    "# 2) Dimer Formation Overall\n",
    "k11 = kon_d # kon of 2G + L -> L11\n",
    "k12 = koff_d # koff of 2G + L <- L11 \n",
    "\n",
    "# Set up Time for Calculations\n",
    "t_graph = np.arange(0, 600, 0.1)"
   ]
  },
  {
   "cell_type": "markdown",
   "metadata": {},
   "source": [
    "## Systems of ODEs"
   ]
  },
  {
   "cell_type": "code",
   "execution_count": 6,
   "metadata": {
    "collapsed": true
   },
   "outputs": [],
   "source": [
    "def calc(p,t,param):\n",
    "    R0,R1,R2,R3,R4,R5,R6 = p\n",
    "    # R0 = G, R1 = L, R2 = L10, R3 = L11, R4 = L01, R5 = L0, R6 = L0_10\n",
    "    k9,k10,k12 = param # full model\n",
    "    #k11,k12 = param # simplified model\n",
    "              \n",
    "    R00=-k1*R0*R1+k3*R2-k7*R0*R2+k9*R3-k2*R0*R1+k4*R4-k8*R0*R4+k10*R3-k5*R0*R5+k6*R6-k11*R0*R0*R1+k12*R3    \n",
    "    R10=-k1*R0*R1+k3*R2-k2*R0*R1+k4*R4-k11*R0*R0*R1+k12*R3            \n",
    "    R20=k1*R0*R1-k3*R2-k7*R0*R2+k9*R3           \n",
    "    R30=k7*R0*R2-k9*R3+k8*R0*R4-k10*R3+k11*R0*R0*R1-k12*R3\n",
    "    R40=k2*R0*R1-k4*R4-k8*R0*R4+k10*R3   \n",
    "    R50=-k5*R0*R5+k6*R6  \n",
    "    R60=k5*R0*R5-k6*R6  \n",
    "    \n",
    "    return [R00, R10, R20, R30, R40, R50, R60]"
   ]
  },
  {
   "cell_type": "markdown",
   "metadata": {},
   "source": [
    "## Simulation"
   ]
  },
  {
   "cell_type": "code",
   "execution_count": 7,
   "metadata": {
    "collapsed": false
   },
   "outputs": [
    {
     "name": "stdout",
     "output_type": "stream",
     "text": [
      "0.00199529511967 0.00199629181168 0.0445917853694\n",
      "8.88481096268\n",
      "{'warnflag': 0, 'task': 'CONVERGENCE: REL_REDUCTION_OF_F_<=_FACTR*EPSMCH', 'grad': array([ -4.65927918,  17.25476846,  61.88377721]), 'nit': 15, 'funcalls': 172}\n"
     ]
    }
   ],
   "source": [
    "P=[] # initialize array for RSS = COST function\n",
    "X=[]\n",
    "\n",
    "def func(param,i):\n",
    "    p0 = [G,L,0,0,0,L0[i],0]\n",
    "    soln=odeint(calc,p0,t_graph,args=(param,),mxstep=10000)\n",
    "    R3 = soln[:,3]\n",
    "    diff = R3[-1]-exp_y[i]\n",
    "    return diff\n",
    "\n",
    "def obj_fun(x):\n",
    "    return np.sum((func(x,j)**2 for j in range(0,len(L0))),axis=0)\n",
    "\n",
    "# specify initial condition \n",
    "num=1e-4 # for a full model: WT and F92D num = 1e-4\n",
    "         # for a simplified model: WT and F92D num = 1e-6\n",
    "    \n",
    "x0=[num,num,num] # intial parameter guess\n",
    "bounds=[(num,None)]*3 # boundaries for parameter optimization\n",
    "\n",
    "x,f,d = optimize.fmin_l_bfgs_b(obj_fun, x0=x0, approx_grad=True,bounds=bounds)\n",
    "\n",
    "k9,k10,k12 = x # for a full model\n",
    "print k9,k10,k12 \n",
    "\n",
    "#k11,k12 = x # for simplified model\n",
    "#print k11,k12\n",
    "\n",
    "print f\n",
    "print d"
   ]
  },
  {
   "cell_type": "markdown",
   "metadata": {},
   "source": [
    "## Results: Fitting the Experimental Data Using the Optimized Parameter"
   ]
  },
  {
   "cell_type": "code",
   "execution_count": 8,
   "metadata": {
    "collapsed": false
   },
   "outputs": [],
   "source": [
    "param = [k9,k10,k12] # optimized parameters\n",
    "#param = [k11,k12]\n",
    "result=[] # initialize the result array\n",
    "for i in range(0,len(L0)):\n",
    "    p0 = [G,L,0,0,0,L0[i],0]\n",
    "    soln=odeint(calc,p0,t_graph,args=(param,))\n",
    "    R3 = soln[:,3]\n",
    "    result.append(R3[-1])"
   ]
  },
  {
   "cell_type": "code",
   "execution_count": 9,
   "metadata": {
    "collapsed": false
   },
   "outputs": [
    {
     "name": "stdout",
     "output_type": "stream",
     "text": [
      "Calculated Gads dimer in uM\n",
      "[ 0.26080334  0.22482422  0.19477616  0.16953087  0.14821846]\n",
      "Experimental Gads dimer in uM\n",
      "[ 0.27176857  0.21304118  0.18455821  0.17283601  0.15602546]\n",
      "R^2 value:\n",
      "R^2 = 0.95\n"
     ]
    }
   ],
   "source": [
    "# Compare the experimenal and calculated results using the oprimized parameter\n",
    "result=np.array(result)\n",
    "print \"Calculated Gads dimer in uM\"\n",
    "print result*0.7*0.5/50 # convert the results from computer to experimental units\n",
    "print \"Experimental Gads dimer in uM\"\n",
    "print raw_exp_y\n",
    "\n",
    "# Calculate R^2\n",
    "from sklearn.metrics import r2_score\n",
    "y_true = raw_exp_y\n",
    "y_pred = result*0.7*0.5/50\n",
    "\n",
    "print \"R^2 value:\"\n",
    "print 'R^2 =', round(r2_score(y_true, y_pred),2)"
   ]
  },
  {
   "cell_type": "code",
   "execution_count": 10,
   "metadata": {
    "collapsed": false
   },
   "outputs": [
    {
     "data": {
      "image/png": "[encoded data removed]",
      "text/plain": [
       "<matplotlib.figure.Figure at 0x15e3fc88>"
      ]
     },
     "metadata": {},
     "output_type": "display_data"
    },
    {
     "data": {
      "image/png": "[encoded data removed]",
      "text/plain": [
       "<matplotlib.figure.Figure at 0x15fdc6a0>"
      ]
     },
     "metadata": {},
     "output_type": "display_data"
    }
   ],
   "source": [
    "# Plot the calculated and experimental results\n",
    "plt.figure(1)\n",
    "plt.plot(L0/50,raw_exp_y,'ko')\n",
    "plt.plot(L0/50,result*0.7*0.5/50,'bo')\n",
    "plt.title('[F92D Gads dimer] vs. [1Yp-LAT]')\n",
    "plt.xlabel('[1Yp-LAT], uM')\n",
    "plt.ylabel('[Gads dimer], uM')\n",
    "plt.legend(['Experiment','Calculations'])\n",
    "plt.axis([-5,25,0.10,0.35])\n",
    "plt.grid(True)\n",
    "plt.show()\n",
    "\n",
    "plt.figure(2)\n",
    "plt.plot(raw_exp_y,raw_exp_y,'ko',raw_exp_y,result*0.7*0.5/50,'bo')\n",
    "plt.title('Calc. vs. Exp. Data')\n",
    "plt.xlabel('Exp. Data, uM')\n",
    "plt.ylabel('Calc. Data, uM')\n",
    "plt.legend(['Perfect Fit','Estimated Fit'],bbox_to_anchor=(1.05,1),loc=2,borderaxespad=0.)\n",
    "plt.axis([0.10,0.35,0.10,0.35])\n",
    "plt.grid(True)\n",
    "plt.show()"
   ]
  },
  {
   "cell_type": "markdown",
   "metadata": {},
   "source": [
    "## Calculations of Cooperativity and Binding Constants"
   ]
  },
  {
   "cell_type": "code",
   "execution_count": 11,
   "metadata": {
    "collapsed": false
   },
   "outputs": [
    {
     "name": "stdout",
     "output_type": "stream",
     "text": [
      "k11 = 0.03\n",
      "Calc. Const.\t Values\t\tUnits \t\tConv. Values\tConv. Units\n",
      "beta2\t\t 1.55e+15 \t1/M**2 \t\t1.55e+03 \t1/uM**2\n",
      "1/beta2\t\t 6.43e-16 \tM**2 \t\t643 \t\tnM**2\n",
      "KA2 \t\t 7.52e+08 \t1/M \t\t752 \t1/uM\n",
      "KD2 \t\t 1.33e-09 \tM \t\t1.33 \t\tnM\n",
      "rho\t\t 355\n"
     ]
    }
   ],
   "source": [
    "print 'k11 =', round(k11,4)\n",
    "# convert kon rates from computer to exp. units\n",
    "k11 = k11 * 2.31 * 1e+3 * 1e+12 # in 1/(s*M**2)\n",
    "k7 = k7 * 50 * 1e+6 # in 1/(M*s) \n",
    "k8 = k8 * 50 * 1e+6 # in 1/(M*s)\n",
    "\n",
    "# Experimental Values for KA1 for WT and F92D\n",
    "WT_KA1 = 5.65 * 1e+6 # in 1/M\n",
    "F2D_KA1 = 2.12 * 1e+6 # in 1/M\n",
    "\n",
    "# IMPORTANT: Select the Corresponding System Here \n",
    "KA1= F2D_KA1 # WT_KA1 or F2D_KA1\n",
    "\n",
    "# Calculated Constants\n",
    "beta2 = k11 / k12\n",
    "KA2 = k7 / k9 # from optimized k9\n",
    "#KA2 = beta2 / KA1 # from optimized k12\n",
    "KD2 = 1 / KA2\n",
    "rho= KA2 / KA1 # from optimized k9\n",
    "#rho = beta2 / (KA1)**2 # from optimized k12\n",
    "\n",
    "print \"Calc. Const.\\t Values\\t\\tUnits \\t\\tConv. Values\\tConv. Units\"\n",
    "np.set_printoptions(precision=2)\n",
    "print \"beta2\\t\\t %.3g \\t1/M**2 \\t\\t%.3g \\t1/uM**2\" % (beta2,beta2*1e-12)\n",
    "print \"1/beta2\\t\\t %.3g \\tM**2 \\t\\t%.3g \\t\\tnM**2\" % (1/beta2,1e+18/beta2)\n",
    "print \"KA2 \\t\\t %.3g \\t1/M \\t\\t%.3g \\t1/uM\" % (KA2,KA2*1e-6)\n",
    "print \"KD2 \\t\\t %.3g \\tM \\t\\t%.3g \\t\\tnM\" % (KD2,KD2*1e+9)\n",
    "print \"rho\\t\\t %.3g\" % rho"
   ]
  },
  {
   "cell_type": "code",
   "execution_count": 12,
   "metadata": {
    "collapsed": false
   },
   "outputs": [
    {
     "name": "stdout",
     "output_type": "stream",
     "text": [
      "k9 = 0.002\n",
      "k10 = 0.002\n",
      "k11 = 6.93e+13\n",
      "k12 = 0.045\n"
     ]
    }
   ],
   "source": [
    "print 'k9 =', round(k9,3)\n",
    "print 'k10 =', round(k10,3)\n",
    "print 'k11 =', round(k11,3)\n",
    "print 'k12 =', round(k12,3)"
   ]
  }
 ],
 "metadata": {
  "kernelspec": {
   "display_name": "Python 2",
   "language": "python",
   "name": "python2"
  },
  "language_info": {
   "codemirror_mode": {
    "name": "ipython",
    "version": 2
   },
   "file_extension": ".py",
   "mimetype": "text/x-python",
   "name": "python",
   "nbconvert_exporter": "python",
   "pygments_lexer": "ipython2",
   "version": "2.7.10"
  }
 },
 "nbformat": 4,
 "nbformat_minor": 0
}
